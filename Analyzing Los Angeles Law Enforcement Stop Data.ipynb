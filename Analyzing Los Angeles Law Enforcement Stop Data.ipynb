{
 "cells": [
  {
   "cell_type": "markdown",
   "metadata": {},
   "source": [
    "# Overview\n",
    "\n",
    "For this project I examine Los Angeles’s Vehicle and Pedestrian Stop Data to better understand policing trends. The data holds valuable information, such as data/time, general location, and race of individuals stopped by police. Dating back to 2010 till present, releasing the dataset was an initiative by the city to promote more transparency between law enforcement agencies and the public. \n",
    "\n",
    "The purpose of this project is to analyze a specific region of LA (Topanga) to better understand the trends and identify potentially problematic policing habits. \n",
    "\n",
    "Key Findings from this project:\n",
    "\n",
    "•\tMen are pulled over by police more frequently than women\n",
    "\n",
    "•\tPolice stops are heightened at night and see their lowest numbers early in the morning\n",
    "\n",
    "•\t2/3 of Police stops are for individuals in vehicles and vehicle pull overs are more likely to result in further action taken by law enforcement\n",
    "\n",
    "•\tThe results indicate Blacks & Hispanics have a higher likelihood of law enforcement engaging in post stop activity versus White counterparts. Conversely, Asians are less likely to have a police officer take further action after a stop compared to White counterparts.\n",
    "\n",
    "Data Source: https://data.lacity.org/Public-Safety/Vehicle-and-Pedestrian-Stop-Data-2010-to-Present/ci25-wgt7\n"
   ]
  },
  {
   "cell_type": "code",
   "execution_count": 1,
   "metadata": {},
   "outputs": [],
   "source": [
    "import numpy as np\n",
    "import matplotlib.pyplot as plt\n",
    "import seaborn as sns\n",
    "import pandas as pd\n",
    "import statsmodels.api as sm\n",
    "import warnings\n",
    "warnings.filterwarnings('ignore')"
   ]
  },
  {
   "cell_type": "code",
   "execution_count": 2,
   "metadata": {},
   "outputs": [
    {
     "data": {
      "text/html": [
       "<div>\n",
       "<style scoped>\n",
       "    .dataframe tbody tr th:only-of-type {\n",
       "        vertical-align: middle;\n",
       "    }\n",
       "\n",
       "    .dataframe tbody tr th {\n",
       "        vertical-align: top;\n",
       "    }\n",
       "\n",
       "    .dataframe thead th {\n",
       "        text-align: right;\n",
       "    }\n",
       "</style>\n",
       "<table border=\"1\" class=\"dataframe\">\n",
       "  <thead>\n",
       "    <tr style=\"text-align: right;\">\n",
       "      <th></th>\n",
       "      <th>Stop Number</th>\n",
       "      <th>Form Reference Number</th>\n",
       "      <th>Sex Code</th>\n",
       "      <th>Descent Code</th>\n",
       "      <th>Descent Description</th>\n",
       "      <th>Stop Date</th>\n",
       "      <th>Stop Time</th>\n",
       "      <th>Officer 1 Serial Number</th>\n",
       "      <th>Officer 1 Division Number</th>\n",
       "      <th>Division Description 1</th>\n",
       "      <th>Officer 2 Serial Number</th>\n",
       "      <th>Officer 2 Division Number</th>\n",
       "      <th>Division Description 2</th>\n",
       "      <th>Reporting District</th>\n",
       "      <th>Stop Type</th>\n",
       "      <th>Post Stop Activity Indicator</th>\n",
       "    </tr>\n",
       "  </thead>\n",
       "  <tbody>\n",
       "    <tr>\n",
       "      <th>0</th>\n",
       "      <td>12984268</td>\n",
       "      <td>27426327</td>\n",
       "      <td>M</td>\n",
       "      <td>B</td>\n",
       "      <td>BLACK</td>\n",
       "      <td>08/06/2016</td>\n",
       "      <td>21:55</td>\n",
       "      <td>47908.0</td>\n",
       "      <td>19</td>\n",
       "      <td>MISSION</td>\n",
       "      <td>NaN</td>\n",
       "      <td>NaN</td>\n",
       "      <td>NaN</td>\n",
       "      <td>1918</td>\n",
       "      <td>PED</td>\n",
       "      <td>N</td>\n",
       "    </tr>\n",
       "    <tr>\n",
       "      <th>1</th>\n",
       "      <td>12987768</td>\n",
       "      <td>27429717</td>\n",
       "      <td>F</td>\n",
       "      <td>B</td>\n",
       "      <td>BLACK</td>\n",
       "      <td>08/09/2016</td>\n",
       "      <td>00:10</td>\n",
       "      <td>47544.0</td>\n",
       "      <td>26</td>\n",
       "      <td>VALLEY TRAFFIC</td>\n",
       "      <td>NaN</td>\n",
       "      <td>NaN</td>\n",
       "      <td>NaN</td>\n",
       "      <td>974</td>\n",
       "      <td>VEH</td>\n",
       "      <td>N</td>\n",
       "    </tr>\n",
       "    <tr>\n",
       "      <th>2</th>\n",
       "      <td>12987840</td>\n",
       "      <td>27429775</td>\n",
       "      <td>F</td>\n",
       "      <td>W</td>\n",
       "      <td>WHITE</td>\n",
       "      <td>08/09/2016</td>\n",
       "      <td>19:39</td>\n",
       "      <td>59798.0</td>\n",
       "      <td>08</td>\n",
       "      <td>WEST LA</td>\n",
       "      <td>NaN</td>\n",
       "      <td>NaN</td>\n",
       "      <td>NaN</td>\n",
       "      <td>822</td>\n",
       "      <td>VEH</td>\n",
       "      <td>N</td>\n",
       "    </tr>\n",
       "    <tr>\n",
       "      <th>3</th>\n",
       "      <td>12991260</td>\n",
       "      <td>27434259</td>\n",
       "      <td>F</td>\n",
       "      <td>A</td>\n",
       "      <td>ASIAN</td>\n",
       "      <td>08/10/2016</td>\n",
       "      <td>20:55</td>\n",
       "      <td>16003.0</td>\n",
       "      <td>08</td>\n",
       "      <td>WEST LA</td>\n",
       "      <td>NaN</td>\n",
       "      <td>NaN</td>\n",
       "      <td>NaN</td>\n",
       "      <td>833</td>\n",
       "      <td>VEH</td>\n",
       "      <td>N</td>\n",
       "    </tr>\n",
       "    <tr>\n",
       "      <th>4</th>\n",
       "      <td>12991647</td>\n",
       "      <td>27434592</td>\n",
       "      <td>F</td>\n",
       "      <td>W</td>\n",
       "      <td>WHITE</td>\n",
       "      <td>08/10/2016</td>\n",
       "      <td>20:20</td>\n",
       "      <td>47933.0</td>\n",
       "      <td>19</td>\n",
       "      <td>MISSION</td>\n",
       "      <td>NaN</td>\n",
       "      <td>NaN</td>\n",
       "      <td>NaN</td>\n",
       "      <td>914</td>\n",
       "      <td>PED</td>\n",
       "      <td>Y</td>\n",
       "    </tr>\n",
       "  </tbody>\n",
       "</table>\n",
       "</div>"
      ],
      "text/plain": [
       "   Stop Number  Form Reference Number Sex Code Descent Code  \\\n",
       "0     12984268               27426327        M            B   \n",
       "1     12987768               27429717        F            B   \n",
       "2     12987840               27429775        F            W   \n",
       "3     12991260               27434259        F            A   \n",
       "4     12991647               27434592        F            W   \n",
       "\n",
       "  Descent Description   Stop Date Stop Time  Officer 1 Serial Number  \\\n",
       "0               BLACK  08/06/2016     21:55                  47908.0   \n",
       "1               BLACK  08/09/2016     00:10                  47544.0   \n",
       "2               WHITE  08/09/2016     19:39                  59798.0   \n",
       "3               ASIAN  08/10/2016     20:55                  16003.0   \n",
       "4               WHITE  08/10/2016     20:20                  47933.0   \n",
       "\n",
       "  Officer 1 Division Number Division Description 1  Officer 2 Serial Number  \\\n",
       "0                        19                MISSION                      NaN   \n",
       "1                        26         VALLEY TRAFFIC                      NaN   \n",
       "2                        08                WEST LA                      NaN   \n",
       "3                        08                WEST LA                      NaN   \n",
       "4                        19                MISSION                      NaN   \n",
       "\n",
       "  Officer 2 Division Number Division Description 2 Reporting District  \\\n",
       "0                       NaN                    NaN               1918   \n",
       "1                       NaN                    NaN                974   \n",
       "2                       NaN                    NaN                822   \n",
       "3                       NaN                    NaN                833   \n",
       "4                       NaN                    NaN                914   \n",
       "\n",
       "  Stop Type Post Stop Activity Indicator  \n",
       "0       PED                            N  \n",
       "1       VEH                            N  \n",
       "2       VEH                            N  \n",
       "3       VEH                            N  \n",
       "4       PED                            Y  "
      ]
     },
     "execution_count": 2,
     "metadata": {},
     "output_type": "execute_result"
    }
   ],
   "source": [
    "data = pd.read_csv('Vehicle_and_Pedestrian_Stop_Data_2010_to_Present.csv')\n",
    "data.head()"
   ]
  },
  {
   "cell_type": "code",
   "execution_count": 3,
   "metadata": {},
   "outputs": [
    {
     "data": {
      "text/plain": [
       "array(['MISSION', 'VALLEY TRAFFIC', 'WEST LA', 'WEST TRAFFIC',\n",
       "       'SEVENTY-SEVENTH', 'NORTH EAST', 'TOPANGA', 'WEST VALLEY',\n",
       "       'OLYMPIC', 'SOUTH TRAFFIC', 'CENTRAL TRAFFIC', 'SOUTH EAST',\n",
       "       'BURGLARY/AUTO THEFT', 'VALLEY BUREAU', 'SOUTH WEST', 'FOOTHILL',\n",
       "       'NEWTON', 'RAMPART', 'HOLLYWOOD', 'NORTH HOLLYWOOD', 'WILSHIRE',\n",
       "       'DEVONSHIRE', 'VAN NUYS', 'METROPOLITAN DIVISN', 'WEST BUREAU',\n",
       "       'CENTRAL', 'PACIFIC', 'HOLLENBECK', 'HARBOR', 'INTERNAL AFFAIRS',\n",
       "       'UNIFORMED SUPPORT', nan, 'FINANCIAL CRIMES', 'TRANSIT GROUP',\n",
       "       'GENERAL SERV POLICE', 'DET SUPPORT', 'JUVENILE',\n",
       "       'VALLEY NARCOTICS', 'COMMISSION INVESTIG', 'COMPLAINT INV BUY',\n",
       "       'GANG UNIT', 'CENTRAL BUREAU', 'SOUTH BUREAU', 'PERSONNEL ABSENCE',\n",
       "       'RACR', 'TRAINING DIVISION', 'SID VALLEY', '**UNUSED PIU CODE**',\n",
       "       'ROBBERY/HOMICIDE', 'OFFICE OF OPERATION', 'INFORMATION TECH',\n",
       "       'FUGITIVE SECTION', 'NARCOTICS DIVISION', 'CENT BUR JUV NARCS',\n",
       "       'ANTI-TERRORIST', 'VLLY BUR JUV NARCS', 'SID', 'MAJOR CRIMES',\n",
       "       'AIR SUPPORT', 'AUDIT DIVISION', 'SECURITY SERVICES',\n",
       "       'FORCE INV.DIV.(FID)', 'CHIEF OF STAFF', 'DET HDQTR',\n",
       "       'JAIL DIVISION', 'OHB', 'LABOR RELATIONS', 'COMMUNICATIONS DIV.',\n",
       "       'CRITICAL INCID INVT', 'EMERGENCY CMD CNTRL',\n",
       "       'NOISE ENFORCE (TCS)', 'VICE', 'ASIAN CRIME INVEST.',\n",
       "       'SO BUREAU HOMICIDE', 'SCH INVEST BUY UNIT'], dtype=object)"
      ]
     },
     "execution_count": 3,
     "metadata": {},
     "output_type": "execute_result"
    }
   ],
   "source": [
    "#Explore the Data\n",
    "data['Division Description 1'].unique()"
   ]
  },
  {
   "cell_type": "code",
   "execution_count": 4,
   "metadata": {},
   "outputs": [
    {
     "data": {
      "text/plain": [
       "array(['M', 'F', 'T', 'W', 'C'], dtype=object)"
      ]
     },
     "execution_count": 4,
     "metadata": {},
     "output_type": "execute_result"
    }
   ],
   "source": [
    "data['Sex Code'].unique()"
   ]
  },
  {
   "cell_type": "code",
   "execution_count": 5,
   "metadata": {},
   "outputs": [
    {
     "data": {
      "text/plain": [
       "M    5699439\n",
       "F    2109083\n",
       "T        988\n",
       "W        789\n",
       "C        297\n",
       "Name: Sex Code, dtype: int64"
      ]
     },
     "execution_count": 5,
     "metadata": {},
     "output_type": "execute_result"
    }
   ],
   "source": [
    "data['Sex Code'].value_counts()"
   ]
  },
  {
   "cell_type": "code",
   "execution_count": 6,
   "metadata": {},
   "outputs": [],
   "source": [
    "#This study will analyze the area of Topanga and filter sex to only include Male or Female\n",
    "#Topanga is Census-designated-place known for it's hiking and proximity to upscale cities such as Calabassas, Santa Monica, Malibu, etc...\n",
    "data =data.loc[data['Division Description 2']=='TOPANGA']\n",
    "data = data.loc[(data['Sex Code'] =='M') | (data['Sex Code'] =='F')]"
   ]
  },
  {
   "cell_type": "code",
   "execution_count": 7,
   "metadata": {},
   "outputs": [
    {
     "data": {
      "text/html": [
       "<div>\n",
       "<style scoped>\n",
       "    .dataframe tbody tr th:only-of-type {\n",
       "        vertical-align: middle;\n",
       "    }\n",
       "\n",
       "    .dataframe tbody tr th {\n",
       "        vertical-align: top;\n",
       "    }\n",
       "\n",
       "    .dataframe thead th {\n",
       "        text-align: right;\n",
       "    }\n",
       "</style>\n",
       "<table border=\"1\" class=\"dataframe\">\n",
       "  <thead>\n",
       "    <tr style=\"text-align: right;\">\n",
       "      <th></th>\n",
       "      <th>Stop Number</th>\n",
       "      <th>Form Reference Number</th>\n",
       "      <th>Sex Code</th>\n",
       "      <th>Descent Code</th>\n",
       "      <th>Descent Description</th>\n",
       "      <th>Stop Date</th>\n",
       "      <th>Stop Time</th>\n",
       "      <th>Officer 1 Serial Number</th>\n",
       "      <th>Officer 1 Division Number</th>\n",
       "      <th>Division Description 1</th>\n",
       "      <th>Officer 2 Serial Number</th>\n",
       "      <th>Officer 2 Division Number</th>\n",
       "      <th>Division Description 2</th>\n",
       "      <th>Reporting District</th>\n",
       "      <th>Stop Type</th>\n",
       "      <th>Post Stop Activity Indicator</th>\n",
       "    </tr>\n",
       "  </thead>\n",
       "  <tbody>\n",
       "    <tr>\n",
       "      <th>29421</th>\n",
       "      <td>8426791</td>\n",
       "      <td>20545535</td>\n",
       "      <td>M</td>\n",
       "      <td>H</td>\n",
       "      <td>HISPANIC</td>\n",
       "      <td>01/24/2011</td>\n",
       "      <td>20:15</td>\n",
       "      <td>49167.0</td>\n",
       "      <td>21</td>\n",
       "      <td>TOPANGA</td>\n",
       "      <td>NaN</td>\n",
       "      <td>21</td>\n",
       "      <td>TOPANGA</td>\n",
       "      <td>2156</td>\n",
       "      <td>VEH</td>\n",
       "      <td>N</td>\n",
       "    </tr>\n",
       "    <tr>\n",
       "      <th>41932</th>\n",
       "      <td>8426796</td>\n",
       "      <td>20545539</td>\n",
       "      <td>M</td>\n",
       "      <td>H</td>\n",
       "      <td>HISPANIC</td>\n",
       "      <td>01/24/2011</td>\n",
       "      <td>21:10</td>\n",
       "      <td>49167.0</td>\n",
       "      <td>21</td>\n",
       "      <td>TOPANGA</td>\n",
       "      <td>NaN</td>\n",
       "      <td>21</td>\n",
       "      <td>TOPANGA</td>\n",
       "      <td>2187</td>\n",
       "      <td>VEH</td>\n",
       "      <td>N</td>\n",
       "    </tr>\n",
       "    <tr>\n",
       "      <th>98380</th>\n",
       "      <td>8344068</td>\n",
       "      <td>20358656</td>\n",
       "      <td>M</td>\n",
       "      <td>B</td>\n",
       "      <td>BLACK</td>\n",
       "      <td>12/27/2010</td>\n",
       "      <td>17:45</td>\n",
       "      <td>15546.0</td>\n",
       "      <td>21</td>\n",
       "      <td>TOPANGA</td>\n",
       "      <td>NaN</td>\n",
       "      <td>21</td>\n",
       "      <td>TOPANGA</td>\n",
       "      <td>2107</td>\n",
       "      <td>VEH</td>\n",
       "      <td>Y</td>\n",
       "    </tr>\n",
       "    <tr>\n",
       "      <th>120279</th>\n",
       "      <td>8344076</td>\n",
       "      <td>20358664</td>\n",
       "      <td>F</td>\n",
       "      <td>B</td>\n",
       "      <td>BLACK</td>\n",
       "      <td>12/27/2010</td>\n",
       "      <td>18:00</td>\n",
       "      <td>15546.0</td>\n",
       "      <td>21</td>\n",
       "      <td>TOPANGA</td>\n",
       "      <td>NaN</td>\n",
       "      <td>21</td>\n",
       "      <td>TOPANGA</td>\n",
       "      <td>2137</td>\n",
       "      <td>VEH</td>\n",
       "      <td>Y</td>\n",
       "    </tr>\n",
       "    <tr>\n",
       "      <th>121784</th>\n",
       "      <td>8426793</td>\n",
       "      <td>20545537</td>\n",
       "      <td>F</td>\n",
       "      <td>W</td>\n",
       "      <td>WHITE</td>\n",
       "      <td>01/24/2011</td>\n",
       "      <td>20:55</td>\n",
       "      <td>49167.0</td>\n",
       "      <td>21</td>\n",
       "      <td>TOPANGA</td>\n",
       "      <td>NaN</td>\n",
       "      <td>21</td>\n",
       "      <td>TOPANGA</td>\n",
       "      <td>2189</td>\n",
       "      <td>VEH</td>\n",
       "      <td>N</td>\n",
       "    </tr>\n",
       "  </tbody>\n",
       "</table>\n",
       "</div>"
      ],
      "text/plain": [
       "        Stop Number  Form Reference Number Sex Code Descent Code  \\\n",
       "29421       8426791               20545535        M            H   \n",
       "41932       8426796               20545539        M            H   \n",
       "98380       8344068               20358656        M            B   \n",
       "120279      8344076               20358664        F            B   \n",
       "121784      8426793               20545537        F            W   \n",
       "\n",
       "       Descent Description   Stop Date Stop Time  Officer 1 Serial Number  \\\n",
       "29421             HISPANIC  01/24/2011     20:15                  49167.0   \n",
       "41932             HISPANIC  01/24/2011     21:10                  49167.0   \n",
       "98380                BLACK  12/27/2010     17:45                  15546.0   \n",
       "120279               BLACK  12/27/2010     18:00                  15546.0   \n",
       "121784               WHITE  01/24/2011     20:55                  49167.0   \n",
       "\n",
       "       Officer 1 Division Number Division Description 1  \\\n",
       "29421                         21                TOPANGA   \n",
       "41932                         21                TOPANGA   \n",
       "98380                         21                TOPANGA   \n",
       "120279                        21                TOPANGA   \n",
       "121784                        21                TOPANGA   \n",
       "\n",
       "        Officer 2 Serial Number Officer 2 Division Number  \\\n",
       "29421                       NaN                        21   \n",
       "41932                       NaN                        21   \n",
       "98380                       NaN                        21   \n",
       "120279                      NaN                        21   \n",
       "121784                      NaN                        21   \n",
       "\n",
       "       Division Description 2 Reporting District Stop Type  \\\n",
       "29421                 TOPANGA               2156       VEH   \n",
       "41932                 TOPANGA               2187       VEH   \n",
       "98380                 TOPANGA               2107       VEH   \n",
       "120279                TOPANGA               2137       VEH   \n",
       "121784                TOPANGA               2189       VEH   \n",
       "\n",
       "       Post Stop Activity Indicator  \n",
       "29421                             N  \n",
       "41932                             N  \n",
       "98380                             Y  \n",
       "120279                            Y  \n",
       "121784                            N  "
      ]
     },
     "execution_count": 7,
     "metadata": {},
     "output_type": "execute_result"
    }
   ],
   "source": [
    "data.head()"
   ]
  },
  {
   "cell_type": "code",
   "execution_count": 8,
   "metadata": {},
   "outputs": [
    {
     "data": {
      "text/plain": [
       "Stop Number                       int64\n",
       "Form Reference Number             int64\n",
       "Sex Code                         object\n",
       "Descent Code                     object\n",
       "Descent Description              object\n",
       "Stop Date                        object\n",
       "Stop Time                        object\n",
       "Officer 1 Serial Number         float64\n",
       "Officer 1 Division Number        object\n",
       "Division Description 1           object\n",
       "Officer 2 Serial Number         float64\n",
       "Officer 2 Division Number        object\n",
       "Division Description 2           object\n",
       "Reporting District               object\n",
       "Stop Type                        object\n",
       "Post Stop Activity Indicator     object\n",
       "dtype: object"
      ]
     },
     "execution_count": 8,
     "metadata": {},
     "output_type": "execute_result"
    }
   ],
   "source": [
    "data.dtypes"
   ]
  },
  {
   "cell_type": "code",
   "execution_count": 9,
   "metadata": {},
   "outputs": [],
   "source": [
    "#convert time to datetimeformat\n",
    "data['Stop Time'] = pd.to_datetime(data['Stop Time'])"
   ]
  },
  {
   "cell_type": "code",
   "execution_count": 10,
   "metadata": {},
   "outputs": [
    {
     "data": {
      "text/plain": [
       "Stop Number                              int64\n",
       "Form Reference Number                    int64\n",
       "Sex Code                                object\n",
       "Descent Code                            object\n",
       "Descent Description                     object\n",
       "Stop Date                               object\n",
       "Stop Time                       datetime64[ns]\n",
       "Officer 1 Serial Number                float64\n",
       "Officer 1 Division Number               object\n",
       "Division Description 1                  object\n",
       "Officer 2 Serial Number                float64\n",
       "Officer 2 Division Number               object\n",
       "Division Description 2                  object\n",
       "Reporting District                      object\n",
       "Stop Type                               object\n",
       "Post Stop Activity Indicator            object\n",
       "dtype: object"
      ]
     },
     "execution_count": 10,
     "metadata": {},
     "output_type": "execute_result"
    }
   ],
   "source": [
    "data.dtypes"
   ]
  },
  {
   "cell_type": "code",
   "execution_count": 11,
   "metadata": {},
   "outputs": [],
   "source": [
    "#round time variable to nearest hour\n",
    "data['Stop Time'] = data['Stop Time'].dt.round('H').dt.hour"
   ]
  },
  {
   "cell_type": "code",
   "execution_count": 12,
   "metadata": {},
   "outputs": [
    {
     "data": {
      "text/html": [
       "<div>\n",
       "<style scoped>\n",
       "    .dataframe tbody tr th:only-of-type {\n",
       "        vertical-align: middle;\n",
       "    }\n",
       "\n",
       "    .dataframe tbody tr th {\n",
       "        vertical-align: top;\n",
       "    }\n",
       "\n",
       "    .dataframe thead th {\n",
       "        text-align: right;\n",
       "    }\n",
       "</style>\n",
       "<table border=\"1\" class=\"dataframe\">\n",
       "  <thead>\n",
       "    <tr style=\"text-align: right;\">\n",
       "      <th></th>\n",
       "      <th>Stop Number</th>\n",
       "      <th>Form Reference Number</th>\n",
       "      <th>Sex Code</th>\n",
       "      <th>Descent Code</th>\n",
       "      <th>Descent Description</th>\n",
       "      <th>Stop Date</th>\n",
       "      <th>Stop Time</th>\n",
       "      <th>Officer 1 Serial Number</th>\n",
       "      <th>Officer 1 Division Number</th>\n",
       "      <th>Division Description 1</th>\n",
       "      <th>Officer 2 Serial Number</th>\n",
       "      <th>Officer 2 Division Number</th>\n",
       "      <th>Division Description 2</th>\n",
       "      <th>Reporting District</th>\n",
       "      <th>Stop Type</th>\n",
       "      <th>Post Stop Activity Indicator</th>\n",
       "    </tr>\n",
       "  </thead>\n",
       "  <tbody>\n",
       "    <tr>\n",
       "      <th>29421</th>\n",
       "      <td>8426791</td>\n",
       "      <td>20545535</td>\n",
       "      <td>M</td>\n",
       "      <td>H</td>\n",
       "      <td>HISPANIC</td>\n",
       "      <td>01/24/2011</td>\n",
       "      <td>20</td>\n",
       "      <td>49167.0</td>\n",
       "      <td>21</td>\n",
       "      <td>TOPANGA</td>\n",
       "      <td>NaN</td>\n",
       "      <td>21</td>\n",
       "      <td>TOPANGA</td>\n",
       "      <td>2156</td>\n",
       "      <td>VEH</td>\n",
       "      <td>N</td>\n",
       "    </tr>\n",
       "    <tr>\n",
       "      <th>41932</th>\n",
       "      <td>8426796</td>\n",
       "      <td>20545539</td>\n",
       "      <td>M</td>\n",
       "      <td>H</td>\n",
       "      <td>HISPANIC</td>\n",
       "      <td>01/24/2011</td>\n",
       "      <td>21</td>\n",
       "      <td>49167.0</td>\n",
       "      <td>21</td>\n",
       "      <td>TOPANGA</td>\n",
       "      <td>NaN</td>\n",
       "      <td>21</td>\n",
       "      <td>TOPANGA</td>\n",
       "      <td>2187</td>\n",
       "      <td>VEH</td>\n",
       "      <td>N</td>\n",
       "    </tr>\n",
       "    <tr>\n",
       "      <th>98380</th>\n",
       "      <td>8344068</td>\n",
       "      <td>20358656</td>\n",
       "      <td>M</td>\n",
       "      <td>B</td>\n",
       "      <td>BLACK</td>\n",
       "      <td>12/27/2010</td>\n",
       "      <td>18</td>\n",
       "      <td>15546.0</td>\n",
       "      <td>21</td>\n",
       "      <td>TOPANGA</td>\n",
       "      <td>NaN</td>\n",
       "      <td>21</td>\n",
       "      <td>TOPANGA</td>\n",
       "      <td>2107</td>\n",
       "      <td>VEH</td>\n",
       "      <td>Y</td>\n",
       "    </tr>\n",
       "  </tbody>\n",
       "</table>\n",
       "</div>"
      ],
      "text/plain": [
       "       Stop Number  Form Reference Number Sex Code Descent Code  \\\n",
       "29421      8426791               20545535        M            H   \n",
       "41932      8426796               20545539        M            H   \n",
       "98380      8344068               20358656        M            B   \n",
       "\n",
       "      Descent Description   Stop Date  Stop Time  Officer 1 Serial Number  \\\n",
       "29421            HISPANIC  01/24/2011         20                  49167.0   \n",
       "41932            HISPANIC  01/24/2011         21                  49167.0   \n",
       "98380               BLACK  12/27/2010         18                  15546.0   \n",
       "\n",
       "      Officer 1 Division Number Division Description 1  \\\n",
       "29421                        21                TOPANGA   \n",
       "41932                        21                TOPANGA   \n",
       "98380                        21                TOPANGA   \n",
       "\n",
       "       Officer 2 Serial Number Officer 2 Division Number  \\\n",
       "29421                      NaN                        21   \n",
       "41932                      NaN                        21   \n",
       "98380                      NaN                        21   \n",
       "\n",
       "      Division Description 2 Reporting District Stop Type  \\\n",
       "29421                TOPANGA               2156       VEH   \n",
       "41932                TOPANGA               2187       VEH   \n",
       "98380                TOPANGA               2107       VEH   \n",
       "\n",
       "      Post Stop Activity Indicator  \n",
       "29421                            N  \n",
       "41932                            N  \n",
       "98380                            Y  "
      ]
     },
     "execution_count": 12,
     "metadata": {},
     "output_type": "execute_result"
    }
   ],
   "source": [
    "#Drop repetitive variables not used for analysis\n",
    "data.head(3)"
   ]
  },
  {
   "cell_type": "code",
   "execution_count": 13,
   "metadata": {},
   "outputs": [],
   "source": [
    "data = data[['Sex Code','Descent Description','Stop Time','Stop Type','Post Stop Activity Indicator']]"
   ]
  },
  {
   "cell_type": "code",
   "execution_count": 14,
   "metadata": {},
   "outputs": [
    {
     "data": {
      "text/html": [
       "<div>\n",
       "<style scoped>\n",
       "    .dataframe tbody tr th:only-of-type {\n",
       "        vertical-align: middle;\n",
       "    }\n",
       "\n",
       "    .dataframe tbody tr th {\n",
       "        vertical-align: top;\n",
       "    }\n",
       "\n",
       "    .dataframe thead th {\n",
       "        text-align: right;\n",
       "    }\n",
       "</style>\n",
       "<table border=\"1\" class=\"dataframe\">\n",
       "  <thead>\n",
       "    <tr style=\"text-align: right;\">\n",
       "      <th></th>\n",
       "      <th>Sex Code</th>\n",
       "      <th>Descent Description</th>\n",
       "      <th>Stop Time</th>\n",
       "      <th>Stop Type</th>\n",
       "      <th>Post Stop Activity Indicator</th>\n",
       "    </tr>\n",
       "  </thead>\n",
       "  <tbody>\n",
       "    <tr>\n",
       "      <th>29421</th>\n",
       "      <td>M</td>\n",
       "      <td>HISPANIC</td>\n",
       "      <td>20</td>\n",
       "      <td>VEH</td>\n",
       "      <td>N</td>\n",
       "    </tr>\n",
       "    <tr>\n",
       "      <th>41932</th>\n",
       "      <td>M</td>\n",
       "      <td>HISPANIC</td>\n",
       "      <td>21</td>\n",
       "      <td>VEH</td>\n",
       "      <td>N</td>\n",
       "    </tr>\n",
       "    <tr>\n",
       "      <th>98380</th>\n",
       "      <td>M</td>\n",
       "      <td>BLACK</td>\n",
       "      <td>18</td>\n",
       "      <td>VEH</td>\n",
       "      <td>Y</td>\n",
       "    </tr>\n",
       "  </tbody>\n",
       "</table>\n",
       "</div>"
      ],
      "text/plain": [
       "      Sex Code Descent Description  Stop Time Stop Type  \\\n",
       "29421        M            HISPANIC         20       VEH   \n",
       "41932        M            HISPANIC         21       VEH   \n",
       "98380        M               BLACK         18       VEH   \n",
       "\n",
       "      Post Stop Activity Indicator  \n",
       "29421                            N  \n",
       "41932                            N  \n",
       "98380                            Y  "
      ]
     },
     "execution_count": 14,
     "metadata": {},
     "output_type": "execute_result"
    }
   ],
   "source": [
    "data.head(3)"
   ]
  },
  {
   "cell_type": "code",
   "execution_count": 15,
   "metadata": {},
   "outputs": [],
   "source": [
    "#visualize data"
   ]
  },
  {
   "cell_type": "code",
   "execution_count": 16,
   "metadata": {},
   "outputs": [
    {
     "name": "stdout",
     "output_type": "stream",
     "text": [
      "M    129814\n",
      "F     48485\n",
      "Name: Sex Code, dtype: int64\n"
     ]
    },
    {
     "data": {
      "text/plain": [
       "Text(0.5, 1.0, 'Male v Female Counts')"
      ]
     },
     "execution_count": 16,
     "metadata": {},
     "output_type": "execute_result"
    },
    {
     "data": {
      "image/png": "[encoded data removed]",
      "text/plain": [
       "<Figure size 432x288 with 1 Axes>"
      ]
     },
     "metadata": {
      "needs_background": "light"
     },
     "output_type": "display_data"
    }
   ],
   "source": [
    "print(data['Sex Code'].value_counts())\n",
    "data['Sex Code'].value_counts().plot(kind ='barh')\n",
    "plt.title('Male v Female Counts', fontsize = 15)"
   ]
  },
  {
   "cell_type": "code",
   "execution_count": 17,
   "metadata": {},
   "outputs": [
    {
     "name": "stdout",
     "output_type": "stream",
     "text": [
      "HISPANIC           75822\n",
      "WHITE              62978\n",
      "BLACK              19702\n",
      "OTHER              12567\n",
      "ASIAN               6898\n",
      "AMERICAN INDIAN      242\n",
      "MULTI-DESCENTS        90\n",
      "Name: Descent Description, dtype: int64\n"
     ]
    },
    {
     "data": {
      "text/plain": [
       "Text(0.5, 1.0, 'Race of Individuals Pulled over by Police in Topanga by %')"
      ]
     },
     "execution_count": 17,
     "metadata": {},
     "output_type": "execute_result"
    },
    {
     "data": {
      "image/png": "[encoded data removed]",
      "text/plain": [
       "<Figure size 432x288 with 1 Axes>"
      ]
     },
     "metadata": {
      "needs_background": "light"
     },
     "output_type": "display_data"
    }
   ],
   "source": [
    "print(data['Descent Description'].value_counts())\n",
    "data['Descent Description'].value_counts(normalize = 'True').plot(kind ='barh')\n",
    "plt.title('Race of Individuals Pulled over by Police in Topanga by %', fontsize = 15)"
   ]
  },
  {
   "cell_type": "markdown",
   "metadata": {},
   "source": [
    "Next, let's have a look at local demographics of the region.\n",
    "\n",
    "Topanga is a Cenus-designated-place within Los Angeles County. The official population of Topange according to the American Community Survey (ACS) was 7900 in 2019.\n",
    "\n",
    "Topanga is a popular hiking destination near Malibu,CA so I have also included demographics of LA County for better insight."
   ]
  },
  {
   "cell_type": "code",
   "execution_count": 18,
   "metadata": {},
   "outputs": [
    {
     "data": {
      "text/html": [
       "<div>\n",
       "<style scoped>\n",
       "    .dataframe tbody tr th:only-of-type {\n",
       "        vertical-align: middle;\n",
       "    }\n",
       "\n",
       "    .dataframe tbody tr th {\n",
       "        vertical-align: top;\n",
       "    }\n",
       "\n",
       "    .dataframe thead th {\n",
       "        text-align: right;\n",
       "    }\n",
       "</style>\n",
       "<table border=\"1\" class=\"dataframe\">\n",
       "  <thead>\n",
       "    <tr style=\"text-align: right;\">\n",
       "      <th></th>\n",
       "      <th>Race</th>\n",
       "      <th>Percentage</th>\n",
       "    </tr>\n",
       "  </thead>\n",
       "  <tbody>\n",
       "    <tr>\n",
       "      <th>0</th>\n",
       "      <td>Asian</td>\n",
       "      <td>6.7</td>\n",
       "    </tr>\n",
       "    <tr>\n",
       "      <th>1</th>\n",
       "      <td>Hispanic</td>\n",
       "      <td>8.8</td>\n",
       "    </tr>\n",
       "    <tr>\n",
       "      <th>2</th>\n",
       "      <td>White</td>\n",
       "      <td>79.7</td>\n",
       "    </tr>\n",
       "    <tr>\n",
       "      <th>3</th>\n",
       "      <td>Multi-Racial</td>\n",
       "      <td>3.0</td>\n",
       "    </tr>\n",
       "    <tr>\n",
       "      <th>4</th>\n",
       "      <td>Black</td>\n",
       "      <td>1.8</td>\n",
       "    </tr>\n",
       "  </tbody>\n",
       "</table>\n",
       "</div>"
      ],
      "text/plain": [
       "           Race  Percentage\n",
       "0         Asian         6.7\n",
       "1      Hispanic         8.8\n",
       "2         White        79.7\n",
       "3  Multi-Racial         3.0\n",
       "4         Black         1.8"
      ]
     },
     "execution_count": 18,
     "metadata": {},
     "output_type": "execute_result"
    }
   ],
   "source": [
    "Topanga_data = pd.read_excel('Topanga & LA County Demographics.xlsx',sheet_name=0) \n",
    "Topanga_data.head()"
   ]
  },
  {
   "cell_type": "code",
   "execution_count": 19,
   "metadata": {},
   "outputs": [
    {
     "data": {
      "text/plain": [
       "Text(0.5, 1.0, 'Topanga Demographics')"
      ]
     },
     "execution_count": 19,
     "metadata": {},
     "output_type": "execute_result"
    },
    {
     "data": {
      "image/png": "[encoded data removed]",
      "text/plain": [
       "<Figure size 432x288 with 1 Axes>"
      ]
     },
     "metadata": {
      "needs_background": "light"
     },
     "output_type": "display_data"
    }
   ],
   "source": [
    "plt.bar(x=Topanga_data.Race,height=Topanga_data.Percentage, color=['pink','cyan','green','purple','orange'])\n",
    "plt.title('Topanga Demographics',fontsize=15)"
   ]
  },
  {
   "cell_type": "markdown",
   "metadata": {},
   "source": [
    "Despite Blacks consitituting less than 2% of Topanga's population, they make up more than 10% of the population stopped by law enforcement. \n",
    "\n",
    "Over-representation of Hispanics is also visible from this graph\n",
    "\n",
    "These findings also need to be supplemented by using LA County demographics. This is because Topanga is a local tourist attraction for many of LA County’s residents. Very few people live in Topanga and those that do live there, their homes are situated near neighboring cities."
   ]
  },
  {
   "cell_type": "code",
   "execution_count": 20,
   "metadata": {},
   "outputs": [
    {
     "data": {
      "text/html": [
       "<div>\n",
       "<style scoped>\n",
       "    .dataframe tbody tr th:only-of-type {\n",
       "        vertical-align: middle;\n",
       "    }\n",
       "\n",
       "    .dataframe tbody tr th {\n",
       "        vertical-align: top;\n",
       "    }\n",
       "\n",
       "    .dataframe thead th {\n",
       "        text-align: right;\n",
       "    }\n",
       "</style>\n",
       "<table border=\"1\" class=\"dataframe\">\n",
       "  <thead>\n",
       "    <tr style=\"text-align: right;\">\n",
       "      <th></th>\n",
       "      <th>Race</th>\n",
       "      <th>Percentage</th>\n",
       "    </tr>\n",
       "  </thead>\n",
       "  <tbody>\n",
       "    <tr>\n",
       "      <th>0</th>\n",
       "      <td>Asian</td>\n",
       "      <td>14.7</td>\n",
       "    </tr>\n",
       "    <tr>\n",
       "      <th>1</th>\n",
       "      <td>Hispanic</td>\n",
       "      <td>47.2</td>\n",
       "    </tr>\n",
       "    <tr>\n",
       "      <th>2</th>\n",
       "      <td>White</td>\n",
       "      <td>25.9</td>\n",
       "    </tr>\n",
       "    <tr>\n",
       "      <th>3</th>\n",
       "      <td>Multi-Racial</td>\n",
       "      <td>4.1</td>\n",
       "    </tr>\n",
       "    <tr>\n",
       "      <th>4</th>\n",
       "      <td>Black</td>\n",
       "      <td>8.1</td>\n",
       "    </tr>\n",
       "  </tbody>\n",
       "</table>\n",
       "</div>"
      ],
      "text/plain": [
       "           Race  Percentage\n",
       "0         Asian        14.7\n",
       "1      Hispanic        47.2\n",
       "2         White        25.9\n",
       "3  Multi-Racial         4.1\n",
       "4         Black         8.1"
      ]
     },
     "execution_count": 20,
     "metadata": {},
     "output_type": "execute_result"
    }
   ],
   "source": [
    "LA_County_Data = pd.read_excel('Topanga & LA County Demographics.xlsx',sheet_name=1) \n",
    "LA_County_Data.head()"
   ]
  },
  {
   "cell_type": "code",
   "execution_count": 21,
   "metadata": {},
   "outputs": [
    {
     "data": {
      "text/plain": [
       "Text(0.5, 1.0, 'Los Angeles County Demographics')"
      ]
     },
     "execution_count": 21,
     "metadata": {},
     "output_type": "execute_result"
    },
    {
     "data": {
      "image/png": "[encoded data removed]",
      "text/plain": [
       "<Figure size 432x288 with 1 Axes>"
      ]
     },
     "metadata": {
      "needs_background": "light"
     },
     "output_type": "display_data"
    }
   ],
   "source": [
    "plt.bar(x=LA_County_Data.Race,height=LA_County_Data.Percentage, color=['pink','cyan','green','purple','orange'])\n",
    "plt.title('Los Angeles County Demographics',fontsize=15)"
   ]
  },
  {
   "cell_type": "markdown",
   "metadata": {},
   "source": [
    "242 American Indian and 90 Multi Descents in dataset. These individuals will be dropped from dataset due to small number"
   ]
  },
  {
   "cell_type": "code",
   "execution_count": 22,
   "metadata": {},
   "outputs": [],
   "source": [
    "data = data.loc[(data['Descent Description'] !='AMERICAN INDIAN')]\n",
    "data = data.loc[(data['Descent Description'] !='MULTI-DESCENTS')]"
   ]
  },
  {
   "cell_type": "code",
   "execution_count": 23,
   "metadata": {},
   "outputs": [
    {
     "data": {
      "text/plain": [
       "(177967, 5)"
      ]
     },
     "execution_count": 23,
     "metadata": {},
     "output_type": "execute_result"
    }
   ],
   "source": [
    "#The new size of dataset\n",
    "data.shape"
   ]
  },
  {
   "cell_type": "code",
   "execution_count": 24,
   "metadata": {},
   "outputs": [
    {
     "data": {
      "text/plain": [
       "HISPANIC    75822\n",
       "WHITE       62978\n",
       "BLACK       19702\n",
       "OTHER       12567\n",
       "ASIAN        6898\n",
       "Name: Descent Description, dtype: int64"
      ]
     },
     "execution_count": 24,
     "metadata": {},
     "output_type": "execute_result"
    }
   ],
   "source": [
    "#Test to make sure American Indian and MULTI-DESCENTS were removed\n",
    "data['Descent Description'].value_counts()"
   ]
  },
  {
   "cell_type": "code",
   "execution_count": 25,
   "metadata": {},
   "outputs": [
    {
     "name": "stdout",
     "output_type": "stream",
     "text": [
      "VEH    66.054943\n",
      "PED    33.945057\n",
      "Name: Stop Type, dtype: float64\n"
     ]
    },
    {
     "data": {
      "text/plain": [
       "Text(0.5, 1.0, '% of Individuals Stopped in Vehicle v Pedestrian')"
      ]
     },
     "execution_count": 25,
     "metadata": {},
     "output_type": "execute_result"
    },
    {
     "data": {
      "image/png": "[encoded data removed]",
      "text/plain": [
       "<Figure size 432x288 with 1 Axes>"
      ]
     },
     "metadata": {
      "needs_background": "light"
     },
     "output_type": "display_data"
    }
   ],
   "source": [
    "print(data['Stop Type'].value_counts(normalize='True')*100)\n",
    "data['Stop Type'].value_counts(normalize='True').plot(kind ='bar')\n",
    "plt.title(\"% of Individuals Stopped in Vehicle v Pedestrian\", fontsize=15 )"
   ]
  },
  {
   "cell_type": "markdown",
   "metadata": {},
   "source": [
    "2/3 of individuals stopped by police were in a vehicle"
   ]
  },
  {
   "cell_type": "code",
   "execution_count": 26,
   "metadata": {},
   "outputs": [
    {
     "name": "stdout",
     "output_type": "stream",
     "text": [
      "Variable identifies whether there was further activity after the stop was made.\n",
      "N    70.302359\n",
      "Y    29.697641\n",
      "Name: Post Stop Activity Indicator, dtype: float64\n"
     ]
    },
    {
     "data": {
      "text/plain": [
       "Text(0.5, 1.0, '% of Stops with further Action Taken')"
      ]
     },
     "execution_count": 26,
     "metadata": {},
     "output_type": "execute_result"
    },
    {
     "data": {
      "image/png": "[encoded data removed]",
      "text/plain": [
       "<Figure size 432x288 with 1 Axes>"
      ]
     },
     "metadata": {
      "needs_background": "light"
     },
     "output_type": "display_data"
    }
   ],
   "source": [
    "data['Post Stop Activity Indicator'].value_counts(normalize='True').plot(kind ='bar')\n",
    "print(\"Variable identifies whether there was further activity after the stop was made.\")\n",
    "print(data['Post Stop Activity Indicator'].value_counts(normalize='True')*100)\n",
    "plt.title('% of Stops with further Action Taken', fontsize=15)"
   ]
  },
  {
   "cell_type": "code",
   "execution_count": 27,
   "metadata": {},
   "outputs": [
    {
     "data": {
      "text/plain": [
       "Text(0.5, 1.0, 'Frequency of Stops throughout the day, Aggregated')"
      ]
     },
     "execution_count": 27,
     "metadata": {},
     "output_type": "execute_result"
    },
    {
     "data": {
      "image/png": "[encoded data removed]",
      "text/plain": [
       "<Figure size 432x288 with 1 Axes>"
      ]
     },
     "metadata": {
      "needs_background": "light"
     },
     "output_type": "display_data"
    }
   ],
   "source": [
    "#sort=False because Value_counts default sort=True and we want to view stops throughout the day\n",
    "data['Stop Time'].value_counts(sort=False).plot(kind ='bar')\n",
    "plt.title('Frequency of Stops throughout the day, Aggregated', fontsize=15)"
   ]
  },
  {
   "cell_type": "markdown",
   "metadata": {},
   "source": [
    "From the data above we see stops peak at night time and are at the lowest early in the morning"
   ]
  },
  {
   "cell_type": "code",
   "execution_count": 28,
   "metadata": {},
   "outputs": [
    {
     "data": {
      "text/html": [
       "<div>\n",
       "<style scoped>\n",
       "    .dataframe tbody tr th:only-of-type {\n",
       "        vertical-align: middle;\n",
       "    }\n",
       "\n",
       "    .dataframe tbody tr th {\n",
       "        vertical-align: top;\n",
       "    }\n",
       "\n",
       "    .dataframe thead th {\n",
       "        text-align: right;\n",
       "    }\n",
       "</style>\n",
       "<table border=\"1\" class=\"dataframe\">\n",
       "  <thead>\n",
       "    <tr style=\"text-align: right;\">\n",
       "      <th></th>\n",
       "      <th>Sex Code</th>\n",
       "      <th>Descent Description</th>\n",
       "      <th>Stop Time</th>\n",
       "      <th>Stop Type</th>\n",
       "      <th>Post Stop Activity Indicator</th>\n",
       "    </tr>\n",
       "  </thead>\n",
       "  <tbody>\n",
       "    <tr>\n",
       "      <th>29421</th>\n",
       "      <td>M</td>\n",
       "      <td>HISPANIC</td>\n",
       "      <td>20</td>\n",
       "      <td>VEH</td>\n",
       "      <td>N</td>\n",
       "    </tr>\n",
       "    <tr>\n",
       "      <th>41932</th>\n",
       "      <td>M</td>\n",
       "      <td>HISPANIC</td>\n",
       "      <td>21</td>\n",
       "      <td>VEH</td>\n",
       "      <td>N</td>\n",
       "    </tr>\n",
       "    <tr>\n",
       "      <th>98380</th>\n",
       "      <td>M</td>\n",
       "      <td>BLACK</td>\n",
       "      <td>18</td>\n",
       "      <td>VEH</td>\n",
       "      <td>Y</td>\n",
       "    </tr>\n",
       "  </tbody>\n",
       "</table>\n",
       "</div>"
      ],
      "text/plain": [
       "      Sex Code Descent Description  Stop Time Stop Type  \\\n",
       "29421        M            HISPANIC         20       VEH   \n",
       "41932        M            HISPANIC         21       VEH   \n",
       "98380        M               BLACK         18       VEH   \n",
       "\n",
       "      Post Stop Activity Indicator  \n",
       "29421                            N  \n",
       "41932                            N  \n",
       "98380                            Y  "
      ]
     },
     "execution_count": 28,
     "metadata": {},
     "output_type": "execute_result"
    }
   ],
   "source": [
    "data.head(3)"
   ]
  },
  {
   "cell_type": "markdown",
   "metadata": {},
   "source": [
    "\n",
    "For further analysis, I want to investigate which factors affect the likelihood someone who is pulled over by the police in Topanga has further activity taken against them. I will look investigate three factors based on the data available to me: sex, race, and whether the person was driving or a pedestrian. \n",
    "\n",
    "To do this, I will further alter the data by creating dummy variables for the factors listed above.\n"
   ]
  },
  {
   "cell_type": "code",
   "execution_count": 29,
   "metadata": {},
   "outputs": [],
   "source": [
    "data= pd.get_dummies(data, columns = ['Sex Code', 'Descent Description','Stop Type','Post Stop Activity Indicator' ])"
   ]
  },
  {
   "cell_type": "code",
   "execution_count": 30,
   "metadata": {},
   "outputs": [
    {
     "data": {
      "text/html": [
       "<div>\n",
       "<style scoped>\n",
       "    .dataframe tbody tr th:only-of-type {\n",
       "        vertical-align: middle;\n",
       "    }\n",
       "\n",
       "    .dataframe tbody tr th {\n",
       "        vertical-align: top;\n",
       "    }\n",
       "\n",
       "    .dataframe thead th {\n",
       "        text-align: right;\n",
       "    }\n",
       "</style>\n",
       "<table border=\"1\" class=\"dataframe\">\n",
       "  <thead>\n",
       "    <tr style=\"text-align: right;\">\n",
       "      <th></th>\n",
       "      <th>Stop Time</th>\n",
       "      <th>Sex Code_F</th>\n",
       "      <th>Sex Code_M</th>\n",
       "      <th>Descent Description_ASIAN</th>\n",
       "      <th>Descent Description_BLACK</th>\n",
       "      <th>Descent Description_HISPANIC</th>\n",
       "      <th>Descent Description_OTHER</th>\n",
       "      <th>Descent Description_WHITE</th>\n",
       "      <th>Stop Type_PED</th>\n",
       "      <th>Stop Type_VEH</th>\n",
       "      <th>Post Stop Activity Indicator_N</th>\n",
       "      <th>Post Stop Activity Indicator_Y</th>\n",
       "    </tr>\n",
       "  </thead>\n",
       "  <tbody>\n",
       "    <tr>\n",
       "      <th>29421</th>\n",
       "      <td>20</td>\n",
       "      <td>0</td>\n",
       "      <td>1</td>\n",
       "      <td>0</td>\n",
       "      <td>0</td>\n",
       "      <td>1</td>\n",
       "      <td>0</td>\n",
       "      <td>0</td>\n",
       "      <td>0</td>\n",
       "      <td>1</td>\n",
       "      <td>1</td>\n",
       "      <td>0</td>\n",
       "    </tr>\n",
       "    <tr>\n",
       "      <th>41932</th>\n",
       "      <td>21</td>\n",
       "      <td>0</td>\n",
       "      <td>1</td>\n",
       "      <td>0</td>\n",
       "      <td>0</td>\n",
       "      <td>1</td>\n",
       "      <td>0</td>\n",
       "      <td>0</td>\n",
       "      <td>0</td>\n",
       "      <td>1</td>\n",
       "      <td>1</td>\n",
       "      <td>0</td>\n",
       "    </tr>\n",
       "    <tr>\n",
       "      <th>98380</th>\n",
       "      <td>18</td>\n",
       "      <td>0</td>\n",
       "      <td>1</td>\n",
       "      <td>0</td>\n",
       "      <td>1</td>\n",
       "      <td>0</td>\n",
       "      <td>0</td>\n",
       "      <td>0</td>\n",
       "      <td>0</td>\n",
       "      <td>1</td>\n",
       "      <td>0</td>\n",
       "      <td>1</td>\n",
       "    </tr>\n",
       "  </tbody>\n",
       "</table>\n",
       "</div>"
      ],
      "text/plain": [
       "       Stop Time  Sex Code_F  Sex Code_M  Descent Description_ASIAN  \\\n",
       "29421         20           0           1                          0   \n",
       "41932         21           0           1                          0   \n",
       "98380         18           0           1                          0   \n",
       "\n",
       "       Descent Description_BLACK  Descent Description_HISPANIC  \\\n",
       "29421                          0                             1   \n",
       "41932                          0                             1   \n",
       "98380                          1                             0   \n",
       "\n",
       "       Descent Description_OTHER  Descent Description_WHITE  Stop Type_PED  \\\n",
       "29421                          0                          0              0   \n",
       "41932                          0                          0              0   \n",
       "98380                          0                          0              0   \n",
       "\n",
       "       Stop Type_VEH  Post Stop Activity Indicator_N  \\\n",
       "29421              1                               1   \n",
       "41932              1                               1   \n",
       "98380              1                               0   \n",
       "\n",
       "       Post Stop Activity Indicator_Y  \n",
       "29421                               0  \n",
       "41932                               0  \n",
       "98380                               1  "
      ]
     },
     "execution_count": 30,
     "metadata": {},
     "output_type": "execute_result"
    }
   ],
   "source": [
    "data.head(3)"
   ]
  },
  {
   "cell_type": "markdown",
   "metadata": {},
   "source": [
    "Next, I will drop the necessary variables in order to not have the dummy variable trap."
   ]
  },
  {
   "cell_type": "code",
   "execution_count": 31,
   "metadata": {},
   "outputs": [],
   "source": [
    "data = data.drop(['Stop Time','Sex Code_F','Descent Description_WHITE','Post Stop Activity Indicator_N','Stop Type_PED','Post Stop Activity Indicator_N'], axis =1) "
   ]
  },
  {
   "cell_type": "code",
   "execution_count": 32,
   "metadata": {},
   "outputs": [
    {
     "data": {
      "text/plain": [
       "Index(['Sex Code_M', 'Descent Description_ASIAN', 'Descent Description_BLACK',\n",
       "       'Descent Description_HISPANIC', 'Descent Description_OTHER',\n",
       "       'Stop Type_VEH', 'Post Stop Activity Indicator_Y'],\n",
       "      dtype='object')"
      ]
     },
     "execution_count": 32,
     "metadata": {},
     "output_type": "execute_result"
    }
   ],
   "source": [
    "data.columns"
   ]
  },
  {
   "cell_type": "code",
   "execution_count": 33,
   "metadata": {},
   "outputs": [
    {
     "data": {
      "text/html": [
       "<div>\n",
       "<style scoped>\n",
       "    .dataframe tbody tr th:only-of-type {\n",
       "        vertical-align: middle;\n",
       "    }\n",
       "\n",
       "    .dataframe tbody tr th {\n",
       "        vertical-align: top;\n",
       "    }\n",
       "\n",
       "    .dataframe thead th {\n",
       "        text-align: right;\n",
       "    }\n",
       "</style>\n",
       "<table border=\"1\" class=\"dataframe\">\n",
       "  <thead>\n",
       "    <tr style=\"text-align: right;\">\n",
       "      <th></th>\n",
       "      <th>Sex Code_M</th>\n",
       "      <th>Descent Description_ASIAN</th>\n",
       "      <th>Descent Description_BLACK</th>\n",
       "      <th>Descent Description_HISPANIC</th>\n",
       "      <th>Descent Description_OTHER</th>\n",
       "      <th>Stop Type_VEH</th>\n",
       "      <th>Post Stop Activity Indicator_Y</th>\n",
       "    </tr>\n",
       "  </thead>\n",
       "  <tbody>\n",
       "    <tr>\n",
       "      <th>29421</th>\n",
       "      <td>1</td>\n",
       "      <td>0</td>\n",
       "      <td>0</td>\n",
       "      <td>1</td>\n",
       "      <td>0</td>\n",
       "      <td>1</td>\n",
       "      <td>0</td>\n",
       "    </tr>\n",
       "    <tr>\n",
       "      <th>41932</th>\n",
       "      <td>1</td>\n",
       "      <td>0</td>\n",
       "      <td>0</td>\n",
       "      <td>1</td>\n",
       "      <td>0</td>\n",
       "      <td>1</td>\n",
       "      <td>0</td>\n",
       "    </tr>\n",
       "    <tr>\n",
       "      <th>98380</th>\n",
       "      <td>1</td>\n",
       "      <td>0</td>\n",
       "      <td>1</td>\n",
       "      <td>0</td>\n",
       "      <td>0</td>\n",
       "      <td>1</td>\n",
       "      <td>1</td>\n",
       "    </tr>\n",
       "  </tbody>\n",
       "</table>\n",
       "</div>"
      ],
      "text/plain": [
       "       Sex Code_M  Descent Description_ASIAN  Descent Description_BLACK  \\\n",
       "29421           1                          0                          0   \n",
       "41932           1                          0                          0   \n",
       "98380           1                          0                          1   \n",
       "\n",
       "       Descent Description_HISPANIC  Descent Description_OTHER  Stop Type_VEH  \\\n",
       "29421                             1                          0              1   \n",
       "41932                             1                          0              1   \n",
       "98380                             0                          0              1   \n",
       "\n",
       "       Post Stop Activity Indicator_Y  \n",
       "29421                               0  \n",
       "41932                               0  \n",
       "98380                               1  "
      ]
     },
     "execution_count": 33,
     "metadata": {},
     "output_type": "execute_result"
    }
   ],
   "source": [
    "data.head(3)"
   ]
  },
  {
   "cell_type": "code",
   "execution_count": 34,
   "metadata": {},
   "outputs": [
    {
     "data": {
      "text/html": [
       "<div>\n",
       "<style scoped>\n",
       "    .dataframe tbody tr th:only-of-type {\n",
       "        vertical-align: middle;\n",
       "    }\n",
       "\n",
       "    .dataframe tbody tr th {\n",
       "        vertical-align: top;\n",
       "    }\n",
       "\n",
       "    .dataframe thead th {\n",
       "        text-align: right;\n",
       "    }\n",
       "</style>\n",
       "<table border=\"1\" class=\"dataframe\">\n",
       "  <thead>\n",
       "    <tr style=\"text-align: right;\">\n",
       "      <th></th>\n",
       "      <th>Sex Code_M</th>\n",
       "      <th>Descent Description_ASIAN</th>\n",
       "      <th>Descent Description_BLACK</th>\n",
       "      <th>Descent Description_HISPANIC</th>\n",
       "      <th>Descent Description_OTHER</th>\n",
       "      <th>Stop Type_VEH</th>\n",
       "      <th>Post Stop Activity Indicator_Y</th>\n",
       "    </tr>\n",
       "  </thead>\n",
       "  <tbody>\n",
       "    <tr>\n",
       "      <th>count</th>\n",
       "      <td>177967.000000</td>\n",
       "      <td>177967.000000</td>\n",
       "      <td>177967.000000</td>\n",
       "      <td>177967.000000</td>\n",
       "      <td>177967.000000</td>\n",
       "      <td>177967.000000</td>\n",
       "      <td>177967.000000</td>\n",
       "    </tr>\n",
       "    <tr>\n",
       "      <th>mean</th>\n",
       "      <td>0.728084</td>\n",
       "      <td>0.038760</td>\n",
       "      <td>0.110706</td>\n",
       "      <td>0.426045</td>\n",
       "      <td>0.070614</td>\n",
       "      <td>0.660549</td>\n",
       "      <td>0.296976</td>\n",
       "    </tr>\n",
       "    <tr>\n",
       "      <th>std</th>\n",
       "      <td>0.444948</td>\n",
       "      <td>0.193023</td>\n",
       "      <td>0.313768</td>\n",
       "      <td>0.494502</td>\n",
       "      <td>0.256180</td>\n",
       "      <td>0.473524</td>\n",
       "      <td>0.456927</td>\n",
       "    </tr>\n",
       "    <tr>\n",
       "      <th>min</th>\n",
       "      <td>0.000000</td>\n",
       "      <td>0.000000</td>\n",
       "      <td>0.000000</td>\n",
       "      <td>0.000000</td>\n",
       "      <td>0.000000</td>\n",
       "      <td>0.000000</td>\n",
       "      <td>0.000000</td>\n",
       "    </tr>\n",
       "    <tr>\n",
       "      <th>25%</th>\n",
       "      <td>0.000000</td>\n",
       "      <td>0.000000</td>\n",
       "      <td>0.000000</td>\n",
       "      <td>0.000000</td>\n",
       "      <td>0.000000</td>\n",
       "      <td>0.000000</td>\n",
       "      <td>0.000000</td>\n",
       "    </tr>\n",
       "    <tr>\n",
       "      <th>50%</th>\n",
       "      <td>1.000000</td>\n",
       "      <td>0.000000</td>\n",
       "      <td>0.000000</td>\n",
       "      <td>0.000000</td>\n",
       "      <td>0.000000</td>\n",
       "      <td>1.000000</td>\n",
       "      <td>0.000000</td>\n",
       "    </tr>\n",
       "    <tr>\n",
       "      <th>75%</th>\n",
       "      <td>1.000000</td>\n",
       "      <td>0.000000</td>\n",
       "      <td>0.000000</td>\n",
       "      <td>1.000000</td>\n",
       "      <td>0.000000</td>\n",
       "      <td>1.000000</td>\n",
       "      <td>1.000000</td>\n",
       "    </tr>\n",
       "    <tr>\n",
       "      <th>max</th>\n",
       "      <td>1.000000</td>\n",
       "      <td>1.000000</td>\n",
       "      <td>1.000000</td>\n",
       "      <td>1.000000</td>\n",
       "      <td>1.000000</td>\n",
       "      <td>1.000000</td>\n",
       "      <td>1.000000</td>\n",
       "    </tr>\n",
       "  </tbody>\n",
       "</table>\n",
       "</div>"
      ],
      "text/plain": [
       "          Sex Code_M  Descent Description_ASIAN  Descent Description_BLACK  \\\n",
       "count  177967.000000              177967.000000              177967.000000   \n",
       "mean        0.728084                   0.038760                   0.110706   \n",
       "std         0.444948                   0.193023                   0.313768   \n",
       "min         0.000000                   0.000000                   0.000000   \n",
       "25%         0.000000                   0.000000                   0.000000   \n",
       "50%         1.000000                   0.000000                   0.000000   \n",
       "75%         1.000000                   0.000000                   0.000000   \n",
       "max         1.000000                   1.000000                   1.000000   \n",
       "\n",
       "       Descent Description_HISPANIC  Descent Description_OTHER  Stop Type_VEH  \\\n",
       "count                 177967.000000              177967.000000  177967.000000   \n",
       "mean                       0.426045                   0.070614       0.660549   \n",
       "std                        0.494502                   0.256180       0.473524   \n",
       "min                        0.000000                   0.000000       0.000000   \n",
       "25%                        0.000000                   0.000000       0.000000   \n",
       "50%                        0.000000                   0.000000       1.000000   \n",
       "75%                        1.000000                   0.000000       1.000000   \n",
       "max                        1.000000                   1.000000       1.000000   \n",
       "\n",
       "       Post Stop Activity Indicator_Y  \n",
       "count                   177967.000000  \n",
       "mean                         0.296976  \n",
       "std                          0.456927  \n",
       "min                          0.000000  \n",
       "25%                          0.000000  \n",
       "50%                          0.000000  \n",
       "75%                          1.000000  \n",
       "max                          1.000000  "
      ]
     },
     "execution_count": 34,
     "metadata": {},
     "output_type": "execute_result"
    }
   ],
   "source": [
    "data.describe()"
   ]
  },
  {
   "cell_type": "markdown",
   "metadata": {},
   "source": [
    "Prepare data for regression. \n",
    "Isolate the dependent variable (Y) Post Stop Activity Indicator_Y (yes)\n",
    "Independent variables (X): race, sex, Driver (yes)\n"
   ]
  },
  {
   "cell_type": "code",
   "execution_count": 35,
   "metadata": {},
   "outputs": [],
   "source": [
    "X = data.iloc[:, 0:-1]\n",
    "y = data.iloc[:, -1]"
   ]
  },
  {
   "cell_type": "code",
   "execution_count": 36,
   "metadata": {},
   "outputs": [
    {
     "name": "stdout",
     "output_type": "stream",
     "text": [
      "Optimization terminated successfully.\n",
      "         Current function value: 210.712126\n",
      "         Iterations 6\n"
     ]
    }
   ],
   "source": [
    "x = sm.add_constant(X)\n",
    "reg_log = sm.Logit(y,x)\n",
    "results_log = reg_log.fit()"
   ]
  },
  {
   "cell_type": "code",
   "execution_count": 37,
   "metadata": {},
   "outputs": [
    {
     "data": {
      "text/html": [
       "<table class=\"simpletable\">\n",
       "<caption>Logit Regression Results</caption>\n",
       "<tr>\n",
       "  <th>Dep. Variable:</th>   <td>Post Stop Activity Indicator_Y</td> <th>  No. Observations:  </th>   <td>177967</td>   \n",
       "</tr>\n",
       "<tr>\n",
       "  <th>Model:</th>                        <td>Logit</td>             <th>  Df Residuals:      </th>   <td>177960</td>   \n",
       "</tr>\n",
       "<tr>\n",
       "  <th>Method:</th>                        <td>MLE</td>              <th>  Df Model:          </th>   <td>     6</td>   \n",
       "</tr>\n",
       "<tr>\n",
       "  <th>Date:</th>                   <td>Mon, 01 Mar 2021</td>        <th>  Pseudo R-squ.:     </th>   <td>   inf</td>   \n",
       "</tr>\n",
       "<tr>\n",
       "  <th>Time:</th>                       <td>00:28:47</td>            <th>  Log-Likelihood:    </th> <td>-3.7500e+07</td>\n",
       "</tr>\n",
       "<tr>\n",
       "  <th>converged:</th>                    <td>True</td>              <th>  LL-Null:           </th>  <td>  0.0000</td>  \n",
       "</tr>\n",
       "<tr>\n",
       "  <th>Covariance Type:</th>            <td>nonrobust</td>           <th>  LLR p-value:       </th>   <td> 1.000</td>   \n",
       "</tr>\n",
       "</table>\n",
       "<table class=\"simpletable\">\n",
       "<tr>\n",
       "                <td></td>                  <th>coef</th>     <th>std err</th>      <th>z</th>      <th>P>|z|</th>  <th>[0.025</th>    <th>0.975]</th>  \n",
       "</tr>\n",
       "<tr>\n",
       "  <th>const</th>                        <td>   -0.2070</td> <td>    0.014</td> <td>  -14.337</td> <td> 0.000</td> <td>   -0.235</td> <td>   -0.179</td>\n",
       "</tr>\n",
       "<tr>\n",
       "  <th>Sex Code_M</th>                   <td>    0.2714</td> <td>    0.013</td> <td>   20.948</td> <td> 0.000</td> <td>    0.246</td> <td>    0.297</td>\n",
       "</tr>\n",
       "<tr>\n",
       "  <th>Descent Description_ASIAN</th>    <td>   -0.0756</td> <td>    0.031</td> <td>   -2.460</td> <td> 0.014</td> <td>   -0.136</td> <td>   -0.015</td>\n",
       "</tr>\n",
       "<tr>\n",
       "  <th>Descent Description_BLACK</th>    <td>    0.0401</td> <td>    0.019</td> <td>    2.089</td> <td> 0.037</td> <td>    0.002</td> <td>    0.078</td>\n",
       "</tr>\n",
       "<tr>\n",
       "  <th>Descent Description_HISPANIC</th> <td>    0.1829</td> <td>    0.013</td> <td>   14.538</td> <td> 0.000</td> <td>    0.158</td> <td>    0.208</td>\n",
       "</tr>\n",
       "<tr>\n",
       "  <th>Descent Description_OTHER</th>    <td>   -0.3580</td> <td>    0.026</td> <td>  -13.883</td> <td> 0.000</td> <td>   -0.409</td> <td>   -0.307</td>\n",
       "</tr>\n",
       "<tr>\n",
       "  <th>Stop Type_VEH</th>                <td>   -1.5361</td> <td>    0.011</td> <td> -137.756</td> <td> 0.000</td> <td>   -1.558</td> <td>   -1.514</td>\n",
       "</tr>\n",
       "</table>"
      ],
      "text/plain": [
       "<class 'statsmodels.iolib.summary.Summary'>\n",
       "\"\"\"\n",
       "                                 Logit Regression Results                                 \n",
       "==========================================================================================\n",
       "Dep. Variable:     Post Stop Activity Indicator_Y   No. Observations:               177967\n",
       "Model:                                      Logit   Df Residuals:                   177960\n",
       "Method:                                       MLE   Df Model:                            6\n",
       "Date:                            Mon, 01 Mar 2021   Pseudo R-squ.:                     inf\n",
       "Time:                                    00:28:47   Log-Likelihood:            -3.7500e+07\n",
       "converged:                                   True   LL-Null:                        0.0000\n",
       "Covariance Type:                        nonrobust   LLR p-value:                     1.000\n",
       "================================================================================================\n",
       "                                   coef    std err          z      P>|z|      [0.025      0.975]\n",
       "------------------------------------------------------------------------------------------------\n",
       "const                           -0.2070      0.014    -14.337      0.000      -0.235      -0.179\n",
       "Sex Code_M                       0.2714      0.013     20.948      0.000       0.246       0.297\n",
       "Descent Description_ASIAN       -0.0756      0.031     -2.460      0.014      -0.136      -0.015\n",
       "Descent Description_BLACK        0.0401      0.019      2.089      0.037       0.002       0.078\n",
       "Descent Description_HISPANIC     0.1829      0.013     14.538      0.000       0.158       0.208\n",
       "Descent Description_OTHER       -0.3580      0.026    -13.883      0.000      -0.409      -0.307\n",
       "Stop Type_VEH                   -1.5361      0.011   -137.756      0.000      -1.558      -1.514\n",
       "================================================================================================\n",
       "\"\"\""
      ]
     },
     "execution_count": 37,
     "metadata": {},
     "output_type": "execute_result"
    }
   ],
   "source": [
    "results_log.summary()"
   ]
  },
  {
   "cell_type": "markdown",
   "metadata": {},
   "source": []
  },
  {
   "cell_type": "markdown",
   "metadata": {},
   "source": [
    "# Key Findings:"
   ]
  },
  {
   "cell_type": "markdown",
   "metadata": {},
   "source": [
    "•\tMen are pulled over by police more frequently than women\n",
    "\n",
    "•\tPolice stops are heightened at night and see their lowest numbers early in the morning\n",
    "\n",
    "•\t2/3 of Police stops are for individuals in vehicles and vehicle pull overs are more likely to result in further action taken by law enforcement\n",
    "\n",
    "•\tThe results indicate Blacks & Hispanics have a higher likelihood of law enforcement engaging in post stop activity versus White counterparts. Conversely, Asians are less likely to have a police officer take further action after a stop compared to White counterparts.\n",
    "\n"
   ]
  },
  {
   "cell_type": "code",
   "execution_count": null,
   "metadata": {},
   "outputs": [],
   "source": []
  }
 ],
 "metadata": {
  "kernelspec": {
   "display_name": "Python 3",
   "language": "python",
   "name": "python3"
  },
  "language_info": {
   "codemirror_mode": {
    "name": "ipython",
    "version": 3
   },
   "file_extension": ".py",
   "mimetype": "text/x-python",
   "name": "python",
   "nbconvert_exporter": "python",
   "pygments_lexer": "ipython3",
   "version": "3.7.3"
  }
 },
 "nbformat": 4,
 "nbformat_minor": 2
}
